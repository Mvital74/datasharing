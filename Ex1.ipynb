{
  "nbformat": 4,
  "nbformat_minor": 0,
  "metadata": {
    "colab": {
      "name": "Untitled1.ipynb",
      "provenance": [],
      "authorship_tag": "ABX9TyO7qFU4uLmKvNt9W+UMO7VK",
      "include_colab_link": true
    },
    "kernelspec": {
      "name": "python3",
      "display_name": "Python 3"
    }
  },
  "cells": [
    {
      "cell_type": "markdown",
      "metadata": {
        "id": "view-in-github",
        "colab_type": "text"
      },
      "source": [
        "<a href=\"https://colab.research.google.com/github/Mvital74/datasharing/blob/master/Ex1.ipynb\" target=\"_parent\"><img src=\"https://colab.research.google.com/assets/colab-badge.svg\" alt=\"Open In Colab\"/></a>"
      ]
    },
    {
      "cell_type": "code",
      "metadata": {
        "id": "i2Yk4UIjXV8R",
        "outputId": "36358210-1f36-4ff7-be4b-5f4df2be9e06",
        "colab": {
          "base_uri": "https://localhost:8080/",
          "height": 303
        }
      },
      "source": [
        "import numpy as np\n",
        "import seaborn as sns\n",
        "# Gera seed especificada\n",
        "np.random.seed(seed = 20111974)\n",
        "# Gera a distribuição\n",
        "a_salario = np.random.normal(1045, 100, 1000)\n",
        "#Calcula média\n",
        "md_salario = a_salario.mean()\n",
        "print(\"A Média é: \" + str(md_salario))\n",
        "#Calcula desvio padrão\n",
        "std_salario = a_salario.std()\n",
        "print(\"O Desvio Padrão é: \" + str(std_salario))\n",
        "#Cria Boxplot\n",
        "sns.boxplot(y = a_salario)\n",
        "#Calcula interquartil\n",
        "Q3 = np.percentile(a_salario,75)\n",
        "Q1 = np.percentile(a_salario,25)\n",
        "f_limite = Q3 + 1.5*(Q3 - Q1)\n",
        "##print(f_limite)\n",
        "# Calcula Outliers\n",
        "lista_outliers=a_salario[a_salario > f_limite]\n",
        "int_qtout = len(lista_outliers)\n",
        "print(\"A Quantidade de Outliers é: \" + str(int_qtout))\n",
        "\n"
      ],
      "execution_count": 28,
      "outputs": [
        {
          "output_type": "stream",
          "text": [
            "A Média é: 1047.150212238584\n",
            "O Desvio Padrão é: 101.18708333868835\n",
            "A Quantidade de Outliers é: 2\n"
          ],
          "name": "stdout"
        },
        {
          "output_type": "display_data",
          "data": {
            "image/png": "[encoded data removed]",
            "text/plain": [
              "<Figure size 432x288 with 1 Axes>"
            ]
          },
          "metadata": {
            "tags": [],
            "needs_background": "light"
          }
        }
      ]
    },
    {
      "cell_type": "code",
      "metadata": {
        "id": "VP6tLQyWfOpx"
      },
      "source": [
        ""
      ],
      "execution_count": null,
      "outputs": []
    }
  ]
}